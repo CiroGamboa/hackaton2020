{
 "cells": [
  {
   "cell_type": "markdown",
   "metadata": {},
   "source": [
    "# Reto 1\n",
    "*Porcentaje de afinidad: Candidato vs Vacante*\n",
    "\n",
    "Magneto empleos es una plataforma que permite a personas de todos los sectores laborales encontrar empleos a nivel nacional e internacional y actualmente cuenta con una bolsa de candidatos disponibles para que grandes empresas encuentren los mejores perfiles que se ajusten a sus vacantes.\n",
    " \n",
    "Esta bolsa de candidatos ha ido creciendo de manera exponencial durante los últimos tiempos. Para cada candidato recopilamos desde información personal como: nombres, apellidos, email, teléfonos, entre otros, hasta información relevante para el proceso de reclutamiento como los estudios, habilidades personales, experiencia y perfil laboral. Aunque toda esta información es posible llenarla por cada candidato, es permitido ingresar en Magneto Empleos candidatos con tan solo el nombre y el correo electrónico y de manera fácil importarlos a una vacante específica.\n",
    " \n",
    "Esto lleva a que tanto los candidatos con información acorde a la vacante, como candidatos con la información incompleta y los candidatos con información poco relevante para la vacante en particular, se vean de la misma manera y mezclados entre sí, lo que hace que la búsqueda de perfiles que se ajusten con la vacante sean una tarea larga, dispendiosa y costosa.\n"
   ]
  },
  {
   "cell_type": "markdown",
   "metadata": {},
   "source": [
    "### Importar las librerías\n",
    "Se usa pandas para la lectura y formato de los dataset."
   ]
  },
  {
   "cell_type": "code",
   "execution_count": 7,
   "metadata": {},
   "outputs": [],
   "source": [
    "import pandas as pd"
   ]
  },
  {
   "cell_type": "markdown",
   "metadata": {},
   "source": [
    "### Lectura de los dataset\n",
    "Cada dataset se importa desde el formato .csv y se convierte en un dataframe de pandas. Estos dataframe son similares a matrices; se puede pensar en ellos como celdas de excel con manejo de listas de python."
   ]
  },
  {
   "cell_type": "code",
   "execution_count": 11,
   "metadata": {},
   "outputs": [],
   "source": [
    "vacant_dataset = pd.read_csv('datasets/Vacants.csv')\n",
    "candidate_dataset = pd.read_csv('datasets/Candidates.csv')\n",
    "app_dataset = pd.read_csv('datasets/Applications.csv')\n",
    "stages_dataset = pd.read_csv('datasets/Stages.csv')\n",
    "app_stages_dataset = pd.read_csv('datasets/ApplicationStages.csv')"
   ]
  },
  {
   "cell_type": "code",
   "execution_count": null,
   "metadata": {},
   "outputs": [],
   "source": []
  }
 ],
 "metadata": {
  "kernelspec": {
   "display_name": "Python 3",
   "language": "python",
   "name": "python3"
  },
  "language_info": {
   "codemirror_mode": {
    "name": "ipython",
    "version": 3
   },
   "file_extension": ".py",
   "mimetype": "text/x-python",
   "name": "python",
   "nbconvert_exporter": "python",
   "pygments_lexer": "ipython3",
   "version": "3.6.4"
  }
 },
 "nbformat": 4,
 "nbformat_minor": 4
}
