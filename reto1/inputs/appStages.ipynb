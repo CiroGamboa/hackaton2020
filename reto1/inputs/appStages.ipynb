{
 "cells": [
  {
   "cell_type": "markdown",
   "metadata": {},
   "source": [
    "# Análisis de etapa de las aplicaciones\n",
    "En este notebook se analiza el dataset correspondiente a ApplicationStages.csv"
   ]
  },
  {
   "cell_type": "code",
   "execution_count": 1,
   "metadata": {},
   "outputs": [],
   "source": [
    "# Importar herramientas\n",
    "import hackaUtils\n",
    "\n",
    "# Importar dataset\n",
    "dt_name = 'ApplicationStages'\n",
    "dataset = hackaUtils.get_dataset([dt_name])[dt_name]"
   ]
  },
  {
   "cell_type": "markdown",
   "metadata": {},
   "source": [
    "## Análisis de información faltante\n",
    "### Cantidad de registros vacíos por campo"
   ]
  },
  {
   "cell_type": "code",
   "execution_count": 2,
   "metadata": {},
   "outputs": [
    {
     "name": "stdout",
     "output_type": "stream",
     "text": [
      "\t\tMissing data per field\n",
      "Total records\t\t 2604398\n",
      "Missing data\t\t% of total\tField name(5)\n",
      "0\t\t\t0%\t\tstatus\n",
      "0\t\t\t0%\t\tcreated_at\n",
      "0\t\t\t0%\t\tstage_id\n",
      "0\t\t\t0%\t\tapplication_id\n"
     ]
    }
   ],
   "source": [
    "# Se cuenta cuantos NaN o Null hay por campo en el dataset\n",
    "hackaUtils.count_empty_records(dataset)"
   ]
  },
  {
   "cell_type": "code",
   "execution_count": null,
   "metadata": {},
   "outputs": [],
   "source": []
  }
 ],
 "metadata": {
  "kernelspec": {
   "display_name": "Python 3",
   "language": "python",
   "name": "python3"
  },
  "language_info": {
   "codemirror_mode": {
    "name": "ipython",
    "version": 3
   },
   "file_extension": ".py",
   "mimetype": "text/x-python",
   "name": "python",
   "nbconvert_exporter": "python",
   "pygments_lexer": "ipython3",
   "version": "3.7.4"
  }
 },
 "nbformat": 4,
 "nbformat_minor": 4
}
