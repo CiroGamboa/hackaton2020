{
 "cells": [
  {
   "cell_type": "markdown",
   "metadata": {},
   "source": [
    "# Análisis de candidatos\n",
    "En este notebook se analiza el dataset correspondiente a Candidates.csv"
   ]
  },
  {
   "cell_type": "code",
   "execution_count": 1,
   "metadata": {},
   "outputs": [],
   "source": [
    "# Importar herramientas\n",
    "import hackaUtils"
   ]
  },
  {
   "cell_type": "code",
   "execution_count": 2,
   "metadata": {},
   "outputs": [],
   "source": [
    "# Importar dataset\n",
    "dt_name = 'Candidates'\n",
    "dataset = hackaUtils.get_dataset([dt_name])[dt_name]"
   ]
  },
  {
   "cell_type": "markdown",
   "metadata": {},
   "source": [
    "## Análisis de información faltante\n",
    "### Cantidad de registros vacíos por campo\n",
    "Se puede observar que en el 94% de los registros, hace falta title_or_profession, en el 92% de los casos falta available_to_move, en el 84% de los casos falta civil_status y en el 71% de los casos falta profile_description. Son los datos más relevantes, es necesario analizar si se tienen en cuenta o no estas variables."
   ]
  },
  {
   "cell_type": "code",
   "execution_count": 3,
   "metadata": {},
   "outputs": [
    {
     "name": "stdout",
     "output_type": "stream",
     "text": [
      "\t\tMissing data per field\n",
      "Total records\t\t 548363\n",
      "Missing data\t\t% of total\tField name(23)\n",
      "517270\t\t\t94%\t\ttitle_or_profession\n",
      "503146\t\t\t92%\t\tavailable_to_move\n",
      "462981\t\t\t84%\t\tcivil_status\n",
      "462709\t\t\t84%\t\thas_video\n",
      "386665\t\t\t71%\t\tprofile_description\n",
      "190738\t\t\t35%\t\tsalary\n",
      "81329\t\t\t15%\t\tbirthdate\n",
      "75033\t\t\t14%\t\tgender\n",
      "51788\t\t\t9%\t\tidentification_type\n",
      "46607\t\t\t8%\t\tidentification_number\n",
      "26230\t\t\t5%\t\tcity\n",
      "21523\t\t\t4%\t\tcountry_birth\n",
      "16323\t\t\t3%\t\teducation_level\n",
      "8096\t\t\t1%\t\tphone\n",
      "31\t\t\t0%\t\tlast_name\n",
      "9\t\t\t0%\t\tfirst_name\n",
      "0\t\t\t0%\t\tpsy_tests\n",
      "0\t\t\t0%\t\texperiences\n",
      "0\t\t\t0%\t\tstudies\n",
      "0\t\t\t0%\t\twithout_studies\n",
      "0\t\t\t0%\t\twithout_experience\n",
      "0\t\t\t0%\t\temail\n"
     ]
    }
   ],
   "source": [
    "# Se cuenta cuantos NaN o Null hay por campo en el dataset\n",
    "hackaUtils.count_empty_records(dataset)"
   ]
  },
  {
   "cell_type": "markdown",
   "metadata": {},
   "source": [
    "## Registros que tienen listas vacías por campo\n",
    "\n",
    "Se puede observar que el 89% de los registros no tiene psy_tests, el 40% no tiene *experiences* y el 38% no tiene *studies*"
   ]
  },
  {
   "cell_type": "code",
   "execution_count": 4,
   "metadata": {},
   "outputs": [
    {
     "name": "stdout",
     "output_type": "stream",
     "text": [
      "Empty lists\n",
      "Total records\t\t 548363\n",
      "Missing data\t\t% of total\tField name(23)\n",
      "0\t\t\t0%\t\tid\n",
      "0\t\t\t0%\t\temail\n",
      "0\t\t\t0%\t\tfirst_name\n",
      "0\t\t\t0%\t\tlast_name\n",
      "0\t\t\t0%\t\tphone\n",
      "0\t\t\t0%\t\tbirthdate\n",
      "0\t\t\t0%\t\tgender\n",
      "0\t\t\t0%\t\tidentification_type\n",
      "0\t\t\t0%\t\tidentification_number\n",
      "0\t\t\t0%\t\tcountry_birth\n",
      "0\t\t\t0%\t\tcity\n",
      "0\t\t\t0%\t\teducation_level\n",
      "0\t\t\t0%\t\tsalary\n",
      "0\t\t\t0%\t\tprofile_description\n",
      "0\t\t\t0%\t\twithout_experience\n",
      "0\t\t\t0%\t\twithout_studies\n",
      "0\t\t\t0%\t\ttitle_or_profession\n",
      "0\t\t\t0%\t\tavailable_to_move\n",
      "0\t\t\t0%\t\tcivil_status\n",
      "0\t\t\t0%\t\thas_video\n",
      "206536\t\t\t38%\t\tstudies\n",
      "220280\t\t\t40%\t\texperiences\n",
      "485719\t\t\t89%\t\tpsy_tests\n"
     ]
    }
   ],
   "source": [
    "# Se cuenta cuantos [] hay por campo en el dataset\n",
    "hackaUtils.count_empty_lists(dataset)"
   ]
  },
  {
   "cell_type": "markdown",
   "metadata": {},
   "source": [
    "#### Eliminar variables con mucha ausencia o poca relevancia\n",
    "Se procede a eliminar en primera instancia las variables: *title_or_profession*, *available_to_move*, *civil_status*, *has_video*, *profile_description*, *birthdate*, *identification_type*, *identification_number* y por contener un 89% de registros conformados por listas vacías, se elimina *psy_tests*. La vairable *gender* se deja hasta que se compruebe la correlación entre genero y cargo. Por poca relevancia se descartan las variables *email*, *first_name*, *last_name*, *phone*.\n",
    "\n",
    "De 23 campos, pasamos a 10."
   ]
  },
  {
   "cell_type": "code",
   "execution_count": 5,
   "metadata": {},
   "outputs": [],
   "source": [
    "columns = ['title_or_profession','available_to_move','civil_status','has_video','profile_description','birthdate','identification_type','identification_number','psy_tests','email','first_name','last_name','phone']\n",
    "filtered_dt = hackaUtils.drop_columns(dataset, columns)"
   ]
  },
  {
   "cell_type": "markdown",
   "metadata": {},
   "source": [
    "## Análisis de variables habilitantes\n",
    "Una variables habilitante es aquella que es fundamental para la existencia de un registro. Es decir, si una variables X es fundamental para el registro Y, si X tiene un valor incoherente o inexistente, se permite descartar al registro Y.\n",
    "Esto lo podemos usar para reducir el tamaño del dataset y refinar los datos de entrada."
   ]
  },
  {
   "cell_type": "markdown",
   "metadata": {},
   "source": [
    "## Análisis individual de las variables\n",
    "### Distribución de valores por variable"
   ]
  },
  {
   "cell_type": "code",
   "execution_count": 6,
   "metadata": {},
   "outputs": [
    {
     "name": "stdout",
     "output_type": "stream",
     "text": [
      "\n",
      "Field values (%):  gender\n",
      "female          0.498690\n",
      "male            0.363985\n",
      "NaN             0.136831\n",
      "unknown         0.000286\n",
      "other_gender    0.000208\n",
      "Name: gender, dtype: float64\n",
      "Field values (value):  gender\n",
      "female          273463\n",
      "male            199596\n",
      "NaN              75033\n",
      "unknown            157\n",
      "other_gender       114\n",
      "Name: gender, dtype: int64\n"
     ]
    }
   ],
   "source": [
    "# Gender\n",
    "column = 'gender'\n",
    "hackaUtils.count_record_per_class(filtered_dt, column)"
   ]
  },
  {
   "cell_type": "markdown",
   "metadata": {},
   "source": [
    "\n",
    "Se puede observar que casi el 50% de los candidatos son mujeres. Entre hombres y mujeres hay aproximadamente un 86% de los valores del campo gender. Se propone agrupar los valores que no sean 'male' y 'female' en la categoría 'others'.\n"
   ]
  },
  {
   "cell_type": "code",
   "execution_count": 7,
   "metadata": {},
   "outputs": [
    {
     "name": "stdout",
     "output_type": "stream",
     "text": [
      "\n",
      "Field values (%):  country_birth\n",
      "Colombia                          0.904264\n",
      "NaN                               0.039250\n",
      "Venezuela                         0.037685\n",
      "Dominican Republic                0.009955\n",
      "Peru                              0.003735\n",
      "                                    ...   \n",
      "British Indian Ocean Territory    0.000002\n",
      "Bhutan                            0.000002\n",
      "Laos                              0.000002\n",
      "Ethiopia                          0.000002\n",
      "Vanuatu                           0.000002\n",
      "Name: country_birth, Length: 99, dtype: float64\n",
      "Field values (value):  country_birth\n",
      "Colombia                          495865\n",
      "NaN                                21523\n",
      "Venezuela                          20665\n",
      "Dominican Republic                  5459\n",
      "Peru                                2048\n",
      "                                   ...  \n",
      "British Indian Ocean Territory         1\n",
      "Bhutan                                 1\n",
      "Laos                                   1\n",
      "Ethiopia                               1\n",
      "Vanuatu                                1\n",
      "Name: country_birth, Length: 99, dtype: int64\n"
     ]
    }
   ],
   "source": [
    "# Country birth\n",
    "column = 'country_birth'\n",
    "hackaUtils.count_record_per_class(filtered_dt, column)"
   ]
  },
  {
   "cell_type": "code",
   "execution_count": 8,
   "metadata": {},
   "outputs": [
    {
     "name": "stdout",
     "output_type": "stream",
     "text": [
      "\n",
      "Field values (%):  city\n",
      "Bogota              0.257891\n",
      "Medellin            0.118828\n",
      "Cali                0.056360\n",
      "Barranquilla        0.049019\n",
      "NaN                 0.047833\n",
      "                      ...   \n",
      "Leuze-en-Hainaut    0.000002\n",
      "Penonome            0.000002\n",
      "Otra (Ayacucho)     0.000002\n",
      "Berbeo              0.000002\n",
      "Catamarca           0.000002\n",
      "Name: city, Length: 1434, dtype: float64\n",
      "Field values (value):  city\n",
      "Bogota              141418\n",
      "Medellin             65161\n",
      "Cali                 30906\n",
      "Barranquilla         26880\n",
      "NaN                  26230\n",
      "                     ...  \n",
      "Leuze-en-Hainaut         1\n",
      "Penonome                 1\n",
      "Otra (Ayacucho)          1\n",
      "Berbeo                   1\n",
      "Catamarca                1\n",
      "Name: city, Length: 1434, dtype: int64\n"
     ]
    }
   ],
   "source": [
    "# City\n",
    "column = 'city'\n",
    "hackaUtils.count_record_per_class(filtered_dt, column)"
   ]
  },
  {
   "cell_type": "code",
   "execution_count": 9,
   "metadata": {},
   "outputs": [
    {
     "name": "stdout",
     "output_type": "stream",
     "text": [
      "\n",
      "Field values (%):  education_level\n",
      "Bachillerato completo                  0.304918\n",
      "Técnico                                0.217845\n",
      "Profesional                            0.210709\n",
      "Tecnólogo                              0.125889\n",
      "Especialización/ Maestría              0.065747\n",
      "Bachillerato (grados 9°, 10° y 11°)    0.031058\n",
      "NaN                                    0.029767\n",
      "Básica primaria                        0.007367\n",
      "Bachillerato (grados 6°, 7° u 8°)      0.006374\n",
      "Doctorado                              0.000326\n",
      "Name: education_level, dtype: float64\n",
      "Field values (value):  education_level\n",
      "Bachillerato completo                  167206\n",
      "Técnico                                119458\n",
      "Profesional                            115545\n",
      "Tecnólogo                               69033\n",
      "Especialización/ Maestría               36053\n",
      "Bachillerato (grados 9°, 10° y 11°)     17031\n",
      "NaN                                     16323\n",
      "Básica primaria                          4040\n",
      "Bachillerato (grados 6°, 7° u 8°)        3495\n",
      "Doctorado                                 179\n",
      "Name: education_level, dtype: int64\n"
     ]
    }
   ],
   "source": [
    "# Education level\n",
    "column = 'education_level'\n",
    "hackaUtils.count_record_per_class(filtered_dt, column)"
   ]
  },
  {
   "cell_type": "code",
   "execution_count": 10,
   "metadata": {},
   "outputs": [
    {
     "name": "stdout",
     "output_type": "stream",
     "text": [
      "\n",
      "Field values (%):  without_experience\n",
      "False    0.891141\n",
      "True     0.108859\n",
      "Name: without_experience, dtype: float64\n",
      "Field values (value):  without_experience\n",
      "False    488669\n",
      "True      59694\n",
      "Name: without_experience, dtype: int64\n"
     ]
    }
   ],
   "source": [
    "# Without experience\n",
    "column = 'without_experience'\n",
    "hackaUtils.count_record_per_class(filtered_dt, column)"
   ]
  },
  {
   "cell_type": "code",
   "execution_count": 11,
   "metadata": {},
   "outputs": [
    {
     "name": "stdout",
     "output_type": "stream",
     "text": [
      "\n",
      "Field values (%):  without_studies\n",
      "False    0.916698\n",
      "True     0.083302\n",
      "Name: without_studies, dtype: float64\n",
      "Field values (value):  without_studies\n",
      "False    502683\n",
      "True      45680\n",
      "Name: without_studies, dtype: int64\n"
     ]
    }
   ],
   "source": [
    "# Without studies\n",
    "column = 'without_studies'\n",
    "hackaUtils.count_record_per_class(filtered_dt, column)"
   ]
  },
  {
   "cell_type": "code",
   "execution_count": null,
   "metadata": {},
   "outputs": [],
   "source": []
  }
 ],
 "metadata": {
  "kernelspec": {
   "display_name": "Python 3",
   "language": "python",
   "name": "python3"
  },
  "language_info": {
   "codemirror_mode": {
    "name": "ipython",
    "version": 3
   },
   "file_extension": ".py",
   "mimetype": "text/x-python",
   "name": "python",
   "nbconvert_exporter": "python",
   "pygments_lexer": "ipython3",
   "version": "3.7.4"
  }
 },
 "nbformat": 4,
 "nbformat_minor": 4
}
