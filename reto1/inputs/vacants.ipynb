{
 "cells": [
  {
   "cell_type": "markdown",
   "metadata": {},
   "source": [
    "# Análisis de vacantes\n",
    "En este notebook se analiza el dataset correspondiente a Vacants.csv"
   ]
  },
  {
   "cell_type": "code",
   "execution_count": 10,
   "metadata": {},
   "outputs": [],
   "source": [
    "# Importar herramientas\n",
    "import hackaUtils\n",
    "import pandas as pd\n",
    "\n",
    "# Importar dataset\n",
    "dt_Stages = 'Stages'\n",
    "dt_Vacants = 'Vacants'\n",
    "dt_Applications = 'Applications'\n",
    "dt_ApplicationStages = 'ApplicationStages'\n",
    "\n",
    "datasetStages = hackaUtils.get_dataset([dt_Stages])[dt_Stages]\n",
    "datasetVacants = hackaUtils.get_dataset([dt_Vacants])[dt_Vacants]\n",
    "datasetApplications = hackaUtils.get_dataset([dt_Applications])[dt_Applications]\n",
    "datasetApplicationStages = hackaUtils.get_dataset([dt_ApplicationStages])[dt_ApplicationStages]"
   ]
  },
  {
   "cell_type": "markdown",
   "metadata": {},
   "source": [
    "## Análisis de información faltante\n",
    "### Cantidad de registros vacíos por campo"
   ]
  },
  {
   "cell_type": "code",
   "execution_count": 3,
   "metadata": {},
   "outputs": [
    {
     "name": "stdout",
     "output_type": "stream",
     "text": [
      "\t\tMissing data per field\n",
      "Total records\t\t 11692\n",
      "Missing data\t\t% of total\tField name(19)\n",
      "9325\t\t\t80%\t\texpiration_date\n",
      "9042\t\t\t77%\t\tnumber_of_quotas\n",
      "8189\t\t\t70%\t\tmax_salary\n",
      "8055\t\t\t69%\t\ttitles_and_studies\n",
      "7554\t\t\t65%\t\tknowledge_and_skills\n",
      "7215\t\t\t62%\t\texperience_and_positions\n",
      "7104\t\t\t61%\t\trequirements\n",
      "3102\t\t\t27%\t\teducation_level\n",
      "161\t\t\t1%\t\tdescription\n",
      "56\t\t\t0%\t\tpublish_date\n",
      "19\t\t\t0%\t\ttitle\n",
      "0\t\t\t0%\t\tconfidential\n",
      "0\t\t\t0%\t\tagree\n",
      "0\t\t\t0%\t\tcompany\n",
      "0\t\t\t0%\t\tcreated_at\n",
      "0\t\t\t0%\t\tstatus\n",
      "0\t\t\t0%\t\tmin_salary\n",
      "0\t\t\t0%\t\tsalary_type\n"
     ]
    }
   ],
   "source": [
    "# Se cuenta cuantos NaN o Null hay por campo en el dataset\n",
    "hackaUtils.count_empty_records(datasetVacants)"
   ]
  },
  {
   "cell_type": "markdown",
   "metadata": {},
   "source": [
    "## Análisis de etapas por vacantes"
   ]
  },
  {
   "cell_type": "markdown",
   "metadata": {},
   "source": [
    "Se realiza el análisis correspondiente de los aplicantes a una vacante en específico para entender el sistema de aplicaciones y selección de aplicantes. Para este caso se utiliza la vacante de id 7503 la cuál fue escogida al azar. "
   ]
  },
  {
   "cell_type": "markdown",
   "metadata": {},
   "source": [
    "Se procede a determinar cuántos aplicantes tuvo o tiene esta vacante:"
   ]
  },
  {
   "cell_type": "code",
   "execution_count": 8,
   "metadata": {},
   "outputs": [
    {
     "name": "stdout",
     "output_type": "stream",
     "text": [
      "   vacant_id  id\n",
      "0       7503  39\n"
     ]
    }
   ],
   "source": [
    "dataSetApplications7503 =  datasetApplications.loc[datasetApplications['vacant_id'] == 7503]\n",
    "applicatorsCount = dataSetApplications7503.groupby('vacant_id', as_index=False).agg({\"id\": \"count\"})\n",
    "print(applicatorsCount)"
   ]
  },
  {
   "cell_type": "markdown",
   "metadata": {},
   "source": [
    "Para ésta vacante se presentaron 39 aplicantes, ahora se a determina las etapas en la que están estas 39 personas:"
   ]
  },
  {
   "cell_type": "code",
   "execution_count": 13,
   "metadata": {},
   "outputs": [
    {
     "name": "stdout",
     "output_type": "stream",
     "text": [
      "         id application_id stage_id               created_at   status\n",
      "0   3593150        2967366    24945  2020-01-17 23:28:09 UTC   active\n",
      "1   3364885        2773947    24945  2020-01-02 01:35:15 UTC   active\n",
      "2   3224346        2660153    24945  2019-12-12 18:50:56 UTC   active\n",
      "3   3210772        2649364    24945  2019-12-11 14:55:48 UTC   active\n",
      "4   3122999        2575308    24945  2019-12-04 19:18:01 UTC   active\n",
      "5   3074757        2537296    24945  2019-12-02 16:04:15 UTC   active\n",
      "6   3055991        2525498    24945  2019-11-30 01:04:28 UTC   active\n",
      "7   3032309        2507348    24945  2019-11-28 19:22:57 UTC   active\n",
      "8   3016871        2494085    24945  2019-11-27 20:25:33 UTC   active\n",
      "9   2979678        2461602    24945  2019-11-25 21:36:13 UTC   active\n",
      "10  2935526        2425645    24945  2019-11-21 21:55:11 UTC   active\n",
      "11  2916404        2414511    24945  2019-11-20 21:21:03 UTC   active\n",
      "12  2914440        2413026    24945  2019-11-20 19:15:58 UTC   active\n",
      "13  2897767        2398680    24945  2019-11-19 20:45:13 UTC   active\n",
      "14  2886669        2389206    24945  2019-11-19 04:06:50 UTC   active\n",
      "15  2881773        2385184    24945  2019-11-18 20:41:22 UTC   active\n",
      "16  2844161        2352844    24945  2019-11-15 16:10:41 UTC   active\n",
      "17  2777767        2297859    24945  2019-11-09 23:56:31 UTC   active\n",
      "18  2761950        2285331    24945  2019-11-08 15:00:19 UTC   active\n",
      "19  2608801        2160085    24945  2019-10-25 13:58:36 UTC   active\n",
      "20  2473173        2046393    24945  2019-10-15 20:14:01 UTC   active\n",
      "21  2406206        1988091    24945  2019-10-09 16:22:58 UTC   active\n",
      "22  2231145        1834411    24945  2019-09-25 16:18:59 UTC   active\n",
      "23  2197608        1810576    24945  2019-09-23 19:54:17 UTC   active\n",
      "24  2189896        1804638    24945  2019-09-22 18:19:40 UTC   active\n",
      "25  2036156        1672772    24945  2019-08-27 14:46:23 UTC   active\n",
      "26  2022297        1663873    24945  2019-08-24 03:05:20 UTC   active\n",
      "27  2001639        1648670    24945  2019-08-22 21:50:01 UTC   active\n",
      "28  1972420        1626471    24945  2019-08-19 21:58:13 UTC   active\n",
      "29  1823448        1492006    24945  2019-08-06 13:33:51 UTC   active\n",
      "30  1689159        1375778    24945  2019-07-23 19:33:02 UTC   active\n",
      "31  1598911        1299666    24945  2019-07-12 21:13:55 UTC   active\n",
      "32  1537500        1250880    24945  2019-07-05 22:38:17 UTC   active\n",
      "33  1231840        1033266    24945  2019-05-31 17:30:37 UTC   active\n",
      "34  1071857         909317    24945  2019-04-30 21:44:31 UTC   active\n",
      "35  1061008         900479    24946  2019-04-25 21:33:28 UTC   active\n",
      "36  1061007         900478    24946  2019-04-25 21:33:27 UTC   active\n",
      "37  1061006         900477    24946  2019-04-25 21:33:27 UTC   active\n",
      "38  1061005         900476    24946  2019-04-25 21:33:27 UTC  deleted\n",
      "39  1062455         900476    24946  2019-04-26 15:43:34 UTC   active\n"
     ]
    }
   ],
   "source": [
    "stages7503applicants = pd.DataFrame(data = None, columns = datasetApplicationStages.columns)\n",
    "for application7503 in dataSetApplications7503.values:\n",
    "    applicationStage7503 = datasetApplicationStages[datasetApplicationStages.application_id==application7503[0]] \n",
    "    stages7503applicants = pd.concat([applicationStage7503, stages7503applicants], ignore_index=True, sort=False)\n",
    "print(stages7503applicants)"
   ]
  },
  {
   "cell_type": "markdown",
   "metadata": {},
   "source": [
    "En la tabla anterior se observan las aplicaciones y la etapa en la que está, sin embargo, cabe resaltar que la aplicación 900476 tiene doble registro, donde uno se encuentra en estado active y otro en estado deleted. De acuerdo a lo descrito por el diccionario dejaré a consideración de"
   ]
  }
 ],
 "metadata": {
  "kernelspec": {
   "display_name": "Python 3",
   "language": "python",
   "name": "python3"
  },
  "language_info": {
   "codemirror_mode": {
    "name": "ipython",
    "version": 3
   },
   "file_extension": ".py",
   "mimetype": "text/x-python",
   "name": "python",
   "nbconvert_exporter": "python",
   "pygments_lexer": "ipython3",
   "version": "3.7.4"
  }
 },
 "nbformat": 4,
 "nbformat_minor": 4
}
