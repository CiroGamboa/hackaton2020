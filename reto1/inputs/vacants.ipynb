{
 "cells": [
  {
   "cell_type": "markdown",
   "metadata": {},
   "source": [
    "# Análisis de vacantes\n",
    "En este notebook se analiza el dataset correspondiente a Vacants.csv"
   ]
  },
  {
   "cell_type": "code",
   "execution_count": 2,
   "metadata": {},
   "outputs": [],
   "source": [
    "# Importar herramientas\n",
    "import hackaUtils\n",
    "\n",
    "# Importar dataset\n",
    "dt_name = 'Vacants'\n",
    "dataset = hackaUtils.get_dataset([dt_name])[dt_name]"
   ]
  },
  {
   "cell_type": "markdown",
   "metadata": {},
   "source": [
    "## Análisis de información faltante\n",
    "### Cantidad de registros vacíos por campo"
   ]
  },
  {
   "cell_type": "code",
   "execution_count": 3,
   "metadata": {},
   "outputs": [
    {
     "name": "stdout",
     "output_type": "stream",
     "text": [
      "\t\tMissing data per field\n",
      "Total records\t\t 11692\n",
      "Missing data\t\t% of total\tField name(19)\n",
      "9325\t\t\t80%\t\texpiration_date\n",
      "9042\t\t\t77%\t\tnumber_of_quotas\n",
      "8189\t\t\t70%\t\tmax_salary\n",
      "8055\t\t\t69%\t\ttitles_and_studies\n",
      "7554\t\t\t65%\t\tknowledge_and_skills\n",
      "7215\t\t\t62%\t\texperience_and_positions\n",
      "7104\t\t\t61%\t\trequirements\n",
      "3102\t\t\t27%\t\teducation_level\n",
      "161\t\t\t1%\t\tdescription\n",
      "56\t\t\t0%\t\tpublish_date\n",
      "19\t\t\t0%\t\ttitle\n",
      "0\t\t\t0%\t\tconfidential\n",
      "0\t\t\t0%\t\tagree\n",
      "0\t\t\t0%\t\tcompany\n",
      "0\t\t\t0%\t\tcreated_at\n",
      "0\t\t\t0%\t\tstatus\n",
      "0\t\t\t0%\t\tmin_salary\n",
      "0\t\t\t0%\t\tsalary_type\n"
     ]
    }
   ],
   "source": [
    "# Se cuenta cuantos NaN o Null hay por campo en el dataset\n",
    "hackaUtils.count_empty_records(dataset)"
   ]
  },
  {
   "cell_type": "code",
   "execution_count": null,
   "metadata": {},
   "outputs": [],
   "source": []
  }
 ],
 "metadata": {
  "kernelspec": {
   "display_name": "Python 3",
   "language": "python",
   "name": "python3"
  },
  "language_info": {
   "codemirror_mode": {
    "name": "ipython",
    "version": 3
   },
   "file_extension": ".py",
   "mimetype": "text/x-python",
   "name": "python",
   "nbconvert_exporter": "python",
   "pygments_lexer": "ipython3",
   "version": "3.7.4"
  }
 },
 "nbformat": 4,
 "nbformat_minor": 4
}
