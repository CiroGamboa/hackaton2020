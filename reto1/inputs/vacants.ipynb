{
 "cells": [
  {
   "cell_type": "markdown",
   "metadata": {},
   "source": [
    "# Análisis de vacantes\n",
    "En este notebook se analiza el dataset correspondiente a Vacants.csv"
   ]
  },
  {
   "cell_type": "code",
   "execution_count": 2,
   "metadata": {},
   "outputs": [],
   "source": [
    "# Importar herramientas\n",
    "import hackaUtils\n",
    "\n",
    "# Importar dataset\n",
    "dt_name = 'Vacants'\n",
    "dataset = hackaUtils.get_dataset([dt_name])[dt_name]"
   ]
  },
  {
   "cell_type": "markdown",
   "metadata": {},
   "source": [
    "## Análisis de información faltante\n",
    "### Cantidad de registros vacíos por campo"
   ]
  },
  {
   "cell_type": "code",
   "execution_count": 3,
   "metadata": {},
   "outputs": [
    {
     "name": "stdout",
     "output_type": "stream",
     "text": [
      "\t\tMissing data per field\n",
      "Total records\t\t 11692\n",
      "Missing data\t\t% of total\tField name(19)\n",
      "9325\t\t\t80%\t\texpiration_date\n",
      "9042\t\t\t77%\t\tnumber_of_quotas\n",
      "8189\t\t\t70%\t\tmax_salary\n",
      "8055\t\t\t69%\t\ttitles_and_studies\n",
      "7554\t\t\t65%\t\tknowledge_and_skills\n",
      "7215\t\t\t62%\t\texperience_and_positions\n",
      "7104\t\t\t61%\t\trequirements\n",
      "3102\t\t\t27%\t\teducation_level\n",
      "161\t\t\t1%\t\tdescription\n",
      "56\t\t\t0%\t\tpublish_date\n",
      "19\t\t\t0%\t\ttitle\n",
      "0\t\t\t0%\t\tconfidential\n",
      "0\t\t\t0%\t\tagree\n",
      "0\t\t\t0%\t\tcompany\n",
      "0\t\t\t0%\t\tcreated_at\n",
      "0\t\t\t0%\t\tstatus\n",
      "0\t\t\t0%\t\tmin_salary\n",
      "0\t\t\t0%\t\tsalary_type\n"
     ]
    }
   ],
   "source": [
    "# Se cuenta cuantos NaN o Null hay por campo en el dataset\n",
    "hackaUtils.count_empty_records(dataset)"
   ]
  },
  {
   "cell_type": "markdown",
   "metadata": {},
   "source": [
    "## Se procede a eliminar algunos campos de acuerdo al ausentismo de registros"
   ]
  },
  {
   "cell_type": "code",
   "execution_count": 4,
   "metadata": {},
   "outputs": [],
   "source": [
    "# Eliminar campos\n",
    "columns = ['expiration_date', 'number_of_quotas', 'max_salary', 'titles_and_studies','knowledge_and_skills', 'experience_and_positions', 'requirements', 'publish_date', 'created_at' ]\n",
    "filtered_dt = hackaUtils.drop_columns(dataset, columns)\n"
   ]
  },
  {
   "cell_type": "markdown",
   "metadata": {},
   "source": [
    "## Análisis individual de las variables"
   ]
  },
  {
   "cell_type": "markdown",
   "metadata": {},
   "source": [
    "### 1. Title"
   ]
  },
  {
   "cell_type": "code",
   "execution_count": 5,
   "metadata": {},
   "outputs": [
    {
     "name": "stdout",
     "output_type": "stream",
     "text": [
      "\n",
      "\n",
      "Field values (%):  title\n",
      "Citación exámenes médicos                              0.009323\n",
      "Examen médico                                          0.003763\n",
      "ASESOR COMERCIAL                                       0.002053\n",
      "Gerente de Zona                                        0.001796\n",
      "EJECUTIVO COMERCIAL                                    0.001796\n",
      "                                                         ...   \n",
      "9805-Auxiliar Cocina SAC                               0.000086\n",
      "Coordinador servicio personalizado clientes Bogotá*    0.000086\n",
      "Profesional Junior Comercial Ventas B2C                0.000086\n",
      "Especialista de Soluciones IT SHAREPOINT               0.000086\n",
      "Value Hunter Centroamérica                             0.000086\n",
      "Name: title, Length: 9612, dtype: float64\n",
      "\n",
      "Field values (value):  title\n",
      "Citación exámenes médicos                              109\n",
      "Examen médico                                           44\n",
      "ASESOR COMERCIAL                                        24\n",
      "Gerente de Zona                                         21\n",
      "EJECUTIVO COMERCIAL                                     21\n",
      "                                                      ... \n",
      "9805-Auxiliar Cocina SAC                                 1\n",
      "Coordinador servicio personalizado clientes Bogotá*      1\n",
      "Profesional Junior Comercial Ventas B2C                  1\n",
      "Especialista de Soluciones IT SHAREPOINT                 1\n",
      "Value Hunter Centroamérica                               1\n",
      "Name: title, Length: 9612, dtype: int64\n"
     ]
    }
   ],
   "source": [
    "# Title\n",
    "column = 'title'\n",
    "props = hackaUtils.count_record_per_class(filtered_dt, column)"
   ]
  },
  {
   "cell_type": "markdown",
   "metadata": {},
   "source": [
    "__Conclusión:__ Los String pueden ser útiles para hacer algún match con la descripción del candidato. Pero en tiempos de crisis, hay que machetear. Se eliinara title y description."
   ]
  },
  {
   "cell_type": "markdown",
   "metadata": {},
   "source": [
    "### 2. Education level"
   ]
  },
  {
   "cell_type": "code",
   "execution_count": 7,
   "metadata": {},
   "outputs": [
    {
     "name": "stdout",
     "output_type": "stream",
     "text": [
      "\n",
      "\n",
      "Field values (%):  education_level\n",
      "NaN                                    0.265310\n",
      "Profesional                            0.228447\n",
      "Bachillerato completo                  0.225026\n",
      "Técnico                                0.121622\n",
      "Tecnólogo                              0.065258\n",
      "Especialización/ Maestría              0.047126\n",
      "Bachillerato (grados 9°, 10° y 11°)    0.037462\n",
      "Bachillerato (grados 6°, 7° u 8°)      0.005046\n",
      "Básica primaria                        0.004447\n",
      "Doctorado                              0.000257\n",
      "Name: education_level, dtype: float64\n",
      "\n",
      "Field values (value):  education_level\n",
      "NaN                                    3102\n",
      "Profesional                            2671\n",
      "Bachillerato completo                  2631\n",
      "Técnico                                1422\n",
      "Tecnólogo                               763\n",
      "Especialización/ Maestría               551\n",
      "Bachillerato (grados 9°, 10° y 11°)     438\n",
      "Bachillerato (grados 6°, 7° u 8°)        59\n",
      "Básica primaria                          52\n",
      "Doctorado                                 3\n",
      "Name: education_level, dtype: int64\n"
     ]
    }
   ],
   "source": [
    "# Education level\n",
    "column = 'education_level'\n",
    "props = hackaUtils.count_record_per_class(filtered_dt, column)"
   ]
  },
  {
   "cell_type": "code",
   "execution_count": 8,
   "metadata": {},
   "outputs": [],
   "source": [
    "# Cambiar los NaN en education level\n",
    "# Reemplazar NaN por undefined\n",
    "column = 'education_level'\n",
    "nan_class = 'undefined'\n",
    "hackaUtils.replace_nan(filtered_dt, column, nan_class)"
   ]
  },
  {
   "cell_type": "code",
   "execution_count": null,
   "metadata": {},
   "outputs": [],
   "source": []
  }
 ],
 "metadata": {
  "kernelspec": {
   "display_name": "Python 3",
   "language": "python",
   "name": "python3"
  },
  "language_info": {
   "codemirror_mode": {
    "name": "ipython",
    "version": 3
   },
   "file_extension": ".py",
   "mimetype": "text/x-python",
   "name": "python",
   "nbconvert_exporter": "python",
   "pygments_lexer": "ipython3",
   "version": "3.7.4"
  }
 },
 "nbformat": 4,
 "nbformat_minor": 4
}
