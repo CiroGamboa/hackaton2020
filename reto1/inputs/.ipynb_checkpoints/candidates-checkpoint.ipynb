{
 "cells": [
  {
   "cell_type": "markdown",
   "metadata": {},
   "source": [
    "# Análisis de candidatos\n",
    "En este notebook se analiza el dataset correspondiente a Candidates.csv\n",
    "\n",
    "### Tareas vigentes\n",
    "[ ] Sacar distribución de salarios y agruparlos por clases. \n",
    "[ ] Analizar qué contiene específicamente Studies y Experiences. \n",
    "[ ] Replantear las clases de City, generar clase de ciudades extranjeras. Es necesario correlacionar con las ciudades de las vacantes (opcional).\n",
    "[ ] Puede ser buena idea usar la fecha de nacimiento, en Colombia aún se fijan mucho en la edad.\n"
   ]
  },
  {
   "cell_type": "code",
   "execution_count": 1,
   "metadata": {},
   "outputs": [],
   "source": [
    "# Importar herramientas\n",
    "import hackaUtils"
   ]
  },
  {
   "cell_type": "code",
   "execution_count": 2,
   "metadata": {},
   "outputs": [],
   "source": [
    "# Importar dataset\n",
    "dt_name = 'Candidates'\n",
    "dataset = hackaUtils.get_dataset([dt_name])[dt_name]"
   ]
  },
  {
   "cell_type": "markdown",
   "metadata": {},
   "source": [
    "## Análisis de información faltante\n",
    "### Cantidad de registros vacíos por campo\n",
    "Se puede observar que en el 94% de los registros, hace falta title_or_profession, en el 92% de los casos falta available_to_move, en el 84% de los casos falta civil_status y en el 71% de los casos falta profile_description. Son los datos más relevantes, es necesario analizar si se tienen en cuenta o no estas variables."
   ]
  },
  {
   "cell_type": "code",
   "execution_count": 3,
   "metadata": {},
   "outputs": [
    {
     "name": "stdout",
     "output_type": "stream",
     "text": [
      "\t\tMissing data per field\n",
      "Total records\t\t 548363\n",
      "Missing data\t\t% of total\tField name(23)\n",
      "517270\t\t\t94%\t\ttitle_or_profession\n",
      "503146\t\t\t92%\t\tavailable_to_move\n",
      "462981\t\t\t84%\t\tcivil_status\n",
      "462709\t\t\t84%\t\thas_video\n",
      "386665\t\t\t71%\t\tprofile_description\n",
      "190738\t\t\t35%\t\tsalary\n",
      "81329\t\t\t15%\t\tbirthdate\n",
      "75033\t\t\t14%\t\tgender\n",
      "51788\t\t\t9%\t\tidentification_type\n",
      "46607\t\t\t8%\t\tidentification_number\n",
      "26230\t\t\t5%\t\tcity\n",
      "21523\t\t\t4%\t\tcountry_birth\n",
      "16323\t\t\t3%\t\teducation_level\n",
      "8096\t\t\t1%\t\tphone\n",
      "31\t\t\t0%\t\tlast_name\n",
      "9\t\t\t0%\t\tfirst_name\n",
      "0\t\t\t0%\t\tpsy_tests\n",
      "0\t\t\t0%\t\texperiences\n",
      "0\t\t\t0%\t\tstudies\n",
      "0\t\t\t0%\t\twithout_studies\n",
      "0\t\t\t0%\t\twithout_experience\n",
      "0\t\t\t0%\t\temail\n"
     ]
    }
   ],
   "source": [
    "# Se cuenta cuantos NaN o Null hay por campo en el dataset\n",
    "hackaUtils.count_empty_records(dataset)"
   ]
  },
  {
   "cell_type": "markdown",
   "metadata": {},
   "source": [
    "## Registros que tienen listas vacías por campo\n",
    "\n",
    "Se puede observar que el 89% de los registros no tiene psy_tests, el 40% no tiene *experiences* y el 38% no tiene *studies*"
   ]
  },
  {
   "cell_type": "code",
   "execution_count": 4,
   "metadata": {},
   "outputs": [
    {
     "name": "stdout",
     "output_type": "stream",
     "text": [
      "Empty lists\n",
      "Total records\t\t 548363\n",
      "Missing data\t\t% of total\tField name(23)\n",
      "0\t\t\t0%\t\tid\n",
      "0\t\t\t0%\t\temail\n",
      "0\t\t\t0%\t\tfirst_name\n",
      "0\t\t\t0%\t\tlast_name\n",
      "0\t\t\t0%\t\tphone\n",
      "0\t\t\t0%\t\tbirthdate\n",
      "0\t\t\t0%\t\tgender\n",
      "0\t\t\t0%\t\tidentification_type\n",
      "0\t\t\t0%\t\tidentification_number\n",
      "0\t\t\t0%\t\tcountry_birth\n",
      "0\t\t\t0%\t\tcity\n",
      "0\t\t\t0%\t\teducation_level\n",
      "0\t\t\t0%\t\tsalary\n",
      "0\t\t\t0%\t\tprofile_description\n",
      "0\t\t\t0%\t\twithout_experience\n",
      "0\t\t\t0%\t\twithout_studies\n",
      "0\t\t\t0%\t\ttitle_or_profession\n",
      "0\t\t\t0%\t\tavailable_to_move\n",
      "0\t\t\t0%\t\tcivil_status\n",
      "0\t\t\t0%\t\thas_video\n",
      "206536\t\t\t38%\t\tstudies\n",
      "220280\t\t\t40%\t\texperiences\n",
      "485719\t\t\t89%\t\tpsy_tests\n"
     ]
    }
   ],
   "source": [
    "# Se cuenta cuantos [] hay por campo en el dataset\n",
    "hackaUtils.count_empty_lists(dataset)"
   ]
  },
  {
   "cell_type": "markdown",
   "metadata": {},
   "source": [
    "#### Eliminar variables con mucha ausencia o poca relevancia\n",
    "Se procede a eliminar en primera instancia las variables: *title_or_profession*, *available_to_move*, *civil_status*, *has_video*, *profile_description*, *birthdate*, *identification_type*, *identification_number* y por contener un 89% de registros conformados por listas vacías, se elimina *psy_tests*. La vairable *gender* se deja hasta que se compruebe la correlación entre genero y cargo. Por poca relevancia se descartan las variables *email*, *first_name*, *last_name*, *phone*.\n",
    "\n",
    "De 23 campos, pasamos a 10."
   ]
  },
  {
   "cell_type": "code",
   "execution_count": 5,
   "metadata": {},
   "outputs": [],
   "source": [
    "columns = ['title_or_profession','available_to_move','civil_status','has_video','profile_description','birthdate','identification_type','identification_number','psy_tests','email','first_name','last_name','phone']\n",
    "filtered_dt = hackaUtils.drop_columns(dataset, columns)"
   ]
  },
  {
   "cell_type": "markdown",
   "metadata": {},
   "source": [
    "## Análisis de variables habilitantes\n",
    "Una variables habilitante es aquella que es fundamental para la existencia de un registro. Es decir, si una variables X es fundamental para el registro Y, si X tiene un valor incoherente o inexistente, se permite descartar al registro Y.\n",
    "Esto lo podemos usar para reducir el tamaño del dataset y refinar los datos de entrada."
   ]
  },
  {
   "cell_type": "markdown",
   "metadata": {},
   "source": [
    "## Análisis individual de las variables\n"
   ]
  },
  {
   "cell_type": "markdown",
   "metadata": {},
   "source": [
    "### 1. Gender"
   ]
  },
  {
   "cell_type": "code",
   "execution_count": 6,
   "metadata": {},
   "outputs": [
    {
     "name": "stdout",
     "output_type": "stream",
     "text": [
      "\n",
      "\n",
      "Field values (%):  gender\n",
      "female          0.498690\n",
      "male            0.363985\n",
      "NaN             0.136831\n",
      "unknown         0.000286\n",
      "other_gender    0.000208\n",
      "Name: gender, dtype: float64\n",
      "\n",
      "Field values (value):  gender\n",
      "female          273463\n",
      "male            199596\n",
      "NaN              75033\n",
      "unknown            157\n",
      "other_gender       114\n",
      "Name: gender, dtype: int64\n"
     ]
    }
   ],
   "source": [
    "# Gender\n",
    "column = 'gender'\n",
    "props = hackaUtils.count_record_per_class(filtered_dt, column)"
   ]
  },
  {
   "cell_type": "markdown",
   "metadata": {},
   "source": [
    "\n",
    "__Conclusión:__ Se puede observar que casi el 50% de los candidatos son mujeres. Entre hombres y mujeres hay aproximadamente un 86% de los valores del campo gender. Se propone agrupar los valores que no sean 'male' y 'female' en la categoría 'others'. En este caso, ya que *unknown* y *other_gender* tienen valores muy pequeños, no vale la pena separarlos de NaN.\n"
   ]
  },
  {
   "cell_type": "code",
   "execution_count": 8,
   "metadata": {},
   "outputs": [
    {
     "name": "stdout",
     "output_type": "stream",
     "text": [
      "\n",
      "\n",
      "Field values (%):  gender\n",
      "female    0.498690\n",
      "male      0.363985\n",
      "others    0.137325\n",
      "Name: gender, dtype: float64\n",
      "\n",
      "Field values (value):  gender\n",
      "female    273463\n",
      "male      199596\n",
      "others     75304\n",
      "Name: gender, dtype: int64\n"
     ]
    }
   ],
   "source": [
    "# Reemplazar NaN, unknown y other_gender por others\n",
    "classes = hackaUtils.get_minor_classes(props,2)\n",
    "group_class = 'others'\n",
    "hackaUtils.replace_minority_values(dt = filtered_dt, field = column, classes = classes, new_class = group_class)\n",
    "# Check distribution again\n",
    "props = hackaUtils.count_record_per_class(filtered_dt, column)\n"
   ]
  },
  {
   "cell_type": "markdown",
   "metadata": {},
   "source": [
    "### 2. Country birth"
   ]
  },
  {
   "cell_type": "code",
   "execution_count": 9,
   "metadata": {},
   "outputs": [
    {
     "name": "stdout",
     "output_type": "stream",
     "text": [
      "\n",
      "\n",
      "Field values (%):  country_birth\n",
      "Colombia              0.904264\n",
      "NaN                   0.039250\n",
      "Venezuela             0.037685\n",
      "Dominican Republic    0.009955\n",
      "Peru                  0.003735\n",
      "                        ...   \n",
      "Vanuatu               0.000002\n",
      "Myanmar               0.000002\n",
      "Lithuania             0.000002\n",
      "Bhutan                0.000002\n",
      "India                 0.000002\n",
      "Name: country_birth, Length: 99, dtype: float64\n",
      "\n",
      "Field values (value):  country_birth\n",
      "Colombia              495865\n",
      "NaN                    21523\n",
      "Venezuela              20665\n",
      "Dominican Republic      5459\n",
      "Peru                    2048\n",
      "                       ...  \n",
      "Vanuatu                    1\n",
      "Myanmar                    1\n",
      "Lithuania                  1\n",
      "Bhutan                     1\n",
      "India                      1\n",
      "Name: country_birth, Length: 99, dtype: int64\n"
     ]
    }
   ],
   "source": [
    "# Country birth\n",
    "column = 'country_birth'\n",
    "props = hackaUtils.count_record_per_class(filtered_dt, column)"
   ]
  },
  {
   "cell_type": "markdown",
   "metadata": {},
   "source": [
    "\n",
    "__Conclusión:__ Debido a que más del 90% de los registros indican que los candidatos son de Colombia y el segundo valor más preponderante es NaN, se eliminará el campo de *country_birth*"
   ]
  },
  {
   "cell_type": "code",
   "execution_count": 10,
   "metadata": {},
   "outputs": [],
   "source": [
    "# Eliminando el campo country_birth\n",
    "columns = ['country_birth']\n",
    "filtered_dt = hackaUtils.drop_columns(filtered_dt, columns)"
   ]
  },
  {
   "cell_type": "markdown",
   "metadata": {},
   "source": [
    "### 3. City"
   ]
  },
  {
   "cell_type": "code",
   "execution_count": 11,
   "metadata": {},
   "outputs": [
    {
     "name": "stdout",
     "output_type": "stream",
     "text": [
      "\n",
      "\n",
      "Field values (%):  city\n",
      "Bogota             0.257891\n",
      "Medellin           0.118828\n",
      "Cali               0.056360\n",
      "Barranquilla       0.049019\n",
      "NaN                0.047833\n",
      "                     ...   \n",
      "Laval              0.000002\n",
      "Tinaquillo         0.000002\n",
      "Seattle            0.000002\n",
      "Manchester         0.000002\n",
      "Roquetas de Mar    0.000002\n",
      "Name: city, Length: 1434, dtype: float64\n",
      "\n",
      "Field values (value):  city\n",
      "Bogota             141418\n",
      "Medellin            65161\n",
      "Cali                30906\n",
      "Barranquilla        26880\n",
      "NaN                 26230\n",
      "                    ...  \n",
      "Laval                   1\n",
      "Tinaquillo              1\n",
      "Seattle                 1\n",
      "Manchester              1\n",
      "Roquetas de Mar         1\n",
      "Name: city, Length: 1434, dtype: int64\n"
     ]
    }
   ],
   "source": [
    "# City\n",
    "column = 'city'\n",
    "props = hackaUtils.count_record_per_class(filtered_dt, column)"
   ]
  },
  {
   "cell_type": "markdown",
   "metadata": {},
   "source": [
    "\n",
    "__Conclusión:__ Se aproximan todas las ciudades, a partir de los registros con NaN, a una sola clase para facilitar las cosas. Cabe resaltar que es buena idea hacer un análisis cruzado de las ciudades de los candidatos, con las ciudades de las vacantes. Ya que la clase 'others' queda con más del 50% de registros, hay que analizar si es buena idea incluir más o volver NaN una clase formal, reemplazando los valores de NaN por algo como 'undefined'.\n"
   ]
  },
  {
   "cell_type": "code",
   "execution_count": 12,
   "metadata": {},
   "outputs": [
    {
     "name": "stdout",
     "output_type": "stream",
     "text": [
      "\n",
      "\n",
      "Field values (%):  city\n",
      "others          0.517901\n",
      "Bogota          0.257891\n",
      "Medellin        0.118828\n",
      "Cali            0.056360\n",
      "Barranquilla    0.049019\n",
      "Name: city, dtype: float64\n",
      "\n",
      "Field values (value):  city\n",
      "others          283998\n",
      "Bogota          141418\n",
      "Medellin         65161\n",
      "Cali             30906\n",
      "Barranquilla     26880\n",
      "Name: city, dtype: int64\n"
     ]
    }
   ],
   "source": [
    "# Reemplazar NaN y otras ciudades minoritarias por others\n",
    "classes = hackaUtils.get_minor_classes(props,4)\n",
    "group_class = 'others'\n",
    "hackaUtils.replace_minority_values(dt = filtered_dt, field = column, classes = classes, new_class = group_class)\n",
    "# Check distribution again\n",
    "props = hackaUtils.count_record_per_class(filtered_dt, column)"
   ]
  },
  {
   "cell_type": "markdown",
   "metadata": {},
   "source": [
    "### 4. Education level"
   ]
  },
  {
   "cell_type": "code",
   "execution_count": 9,
   "metadata": {},
   "outputs": [
    {
     "name": "stdout",
     "output_type": "stream",
     "text": [
      "\n",
      "Field values (%):  education_level\n",
      "Bachillerato completo                  0.304918\n",
      "Técnico                                0.217845\n",
      "Profesional                            0.210709\n",
      "Tecnólogo                              0.125889\n",
      "Especialización/ Maestría              0.065747\n",
      "Bachillerato (grados 9°, 10° y 11°)    0.031058\n",
      "NaN                                    0.029767\n",
      "Básica primaria                        0.007367\n",
      "Bachillerato (grados 6°, 7° u 8°)      0.006374\n",
      "Doctorado                              0.000326\n",
      "Name: education_level, dtype: float64\n",
      "Field values (value):  education_level\n",
      "Bachillerato completo                  167206\n",
      "Técnico                                119458\n",
      "Profesional                            115545\n",
      "Tecnólogo                               69033\n",
      "Especialización/ Maestría               36053\n",
      "Bachillerato (grados 9°, 10° y 11°)     17031\n",
      "NaN                                     16323\n",
      "Básica primaria                          4040\n",
      "Bachillerato (grados 6°, 7° u 8°)        3495\n",
      "Doctorado                                 179\n",
      "Name: education_level, dtype: int64\n"
     ]
    }
   ],
   "source": [
    "# Education level\n",
    "column = 'education_level'\n",
    "props = hackaUtils.count_record_per_class(filtered_dt, column)\n",
    "# Cambiar listas vacías por clase 'undefined'\n",
    "nan_class = 'undefined'\n",
    "hackaUtils.replace_empty_lists(filtered_dt, column, nan_class)"
   ]
  },
  {
   "cell_type": "code",
   "execution_count": null,
   "metadata": {},
   "outputs": [],
   "source": []
  },
  {
   "cell_type": "markdown",
   "metadata": {},
   "source": [
    "### 5. Salary"
   ]
  },
  {
   "cell_type": "code",
   "execution_count": null,
   "metadata": {},
   "outputs": [],
   "source": [
    "# Salary\n",
    "'''\n",
    "column = 'salary'\n",
    "nan_class = 'undefined'\n",
    "# Cambiar listas vacías por clase 'undefined'\n",
    "hackaUtils.replace_empty_lists(filtered_dt, column, nan_class)\n",
    "''''\n",
    "\n",
    "# Eliminando el campo salary\n",
    "columns = ['salary']\n",
    "filtered_dt = hackaUtils.drop_columns(filtered_dt, columns)"
   ]
  },
  {
   "cell_type": "markdown",
   "metadata": {},
   "source": [
    "__Conclusión:__ Se omite por lo pronto el salario. Tiene una distribución bastante amplia de valores incoherentes, desde valores negativos a valores positivos muy grandes. Es buena idea saber cual es la proporción real de los datos que son útiles, ya que parece haber mucha basura. De todas formas vale la pena hacer un analisis posterior, relacionandolo con el sueldo que se estipula en las vacantes. "
   ]
  },
  {
   "cell_type": "markdown",
   "metadata": {},
   "source": [
    "### 6. Without Experience"
   ]
  },
  {
   "cell_type": "code",
   "execution_count": 10,
   "metadata": {},
   "outputs": [
    {
     "name": "stdout",
     "output_type": "stream",
     "text": [
      "\n",
      "Field values (%):  without_experience\n",
      "False    0.891141\n",
      "True     0.108859\n",
      "Name: without_experience, dtype: float64\n",
      "Field values (value):  without_experience\n",
      "False    488669\n",
      "True      59694\n",
      "Name: without_experience, dtype: int64\n"
     ]
    }
   ],
   "source": [
    "# Without experience\n",
    "column = 'without_experience'\n",
    "props = hackaUtils.count_record_per_class(filtered_dt, column)"
   ]
  },
  {
   "cell_type": "markdown",
   "metadata": {},
   "source": [
    "### 7. Without Studies"
   ]
  },
  {
   "cell_type": "code",
   "execution_count": 11,
   "metadata": {},
   "outputs": [
    {
     "name": "stdout",
     "output_type": "stream",
     "text": [
      "\n",
      "Field values (%):  without_studies\n",
      "False    0.916698\n",
      "True     0.083302\n",
      "Name: without_studies, dtype: float64\n",
      "Field values (value):  without_studies\n",
      "False    502683\n",
      "True      45680\n",
      "Name: without_studies, dtype: int64\n"
     ]
    }
   ],
   "source": [
    "# Without studies\n",
    "column = 'without_studies'\n",
    "props = hackaUtils.count_record_per_class(filtered_dt, column)"
   ]
  },
  {
   "cell_type": "markdown",
   "metadata": {},
   "source": [
    "### 8. Studies"
   ]
  },
  {
   "cell_type": "code",
   "execution_count": null,
   "metadata": {},
   "outputs": [],
   "source": [
    "# Studies\n",
    "column = 'studies'\n",
    "nan_class = 'undefined'\n",
    "# Cambiar listas vacías por clase 'undefined'\n",
    "hackaUtils.replace_empty_lists(filtered_dt, column, nan_class)\n"
   ]
  },
  {
   "cell_type": "markdown",
   "metadata": {},
   "source": [
    "__Conclusión:__ Los datos vienen con json que contienen los tipos de estudios asociados a cada candidato, pueden ser muy variados, aunque algo que si es estandar son las etiquetas de \"study_type\", que pueden ser \"professional\", \"other\", entre otros. Se propone en primera instancia, el criterio de cantidad de estudios, es decir, contar cuantos registros hay en cada uno de esos json. Se podría reemplazar los undefined con 0."
   ]
  },
  {
   "cell_type": "markdown",
   "metadata": {},
   "source": [
    "### 9. Experiences"
   ]
  },
  {
   "cell_type": "code",
   "execution_count": null,
   "metadata": {},
   "outputs": [],
   "source": [
    "# Experiences\n",
    "column = 'experiences'\n",
    "nan_class = 'undefined'\n",
    "# Cambiar listas vacías por clase 'undefined'\n",
    "hackaUtils.replace_empty_lists(filtered_dt, column, nan_class)"
   ]
  },
  {
   "cell_type": "markdown",
   "metadata": {},
   "source": [
    "__Conclusión:__ Los registros de este campo son similares a los de *studies*, que son json con varios diccionarios o listas por dentro. Se propone de la misma forma el conteo de dichos registros. "
   ]
  }
 ],
 "metadata": {
  "kernelspec": {
   "display_name": "Python 3",
   "language": "python",
   "name": "python3"
  },
  "language_info": {
   "codemirror_mode": {
    "name": "ipython",
    "version": 3
   },
   "file_extension": ".py",
   "mimetype": "text/x-python",
   "name": "python",
   "nbconvert_exporter": "python",
   "pygments_lexer": "ipython3",
   "version": "3.7.4"
  }
 },
 "nbformat": 4,
 "nbformat_minor": 4
}
