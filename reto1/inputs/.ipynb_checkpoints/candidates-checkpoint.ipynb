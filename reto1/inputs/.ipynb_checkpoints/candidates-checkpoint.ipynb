{
 "cells": [
  {
   "cell_type": "markdown",
   "metadata": {},
   "source": [
    "# Análisis de candidatos\n",
    "En este notebook se analiza el dataset correspondiente a Candidates.csv"
   ]
  },
  {
   "cell_type": "code",
   "execution_count": 7,
   "metadata": {},
   "outputs": [],
   "source": [
    "# Importar herramientas\n",
    "import hackaUtils\n",
    "\n",
    "# Importar dataset\n",
    "dt_name = 'Candidates'\n",
    "dataset = hackaUtils.get_dataset([dt_name])[dt_name]"
   ]
  },
  {
   "cell_type": "markdown",
   "metadata": {},
   "source": [
    "## Análisis de información faltante\n",
    "### Cantidad de registros vacíos por campo\n",
    "Se puede observar que en el 94% de los registros, hace falta title_or_profession, en el 92% de los casos falta available_to_move, en el 84% de los casos falta civil_status y en el 71% de los casos falta profile_description. Son los datos más relevantes, es necesario analizar si se tienen en cuenta o no estas variables."
   ]
  },
  {
   "cell_type": "code",
   "execution_count": 8,
   "metadata": {},
   "outputs": [
    {
     "name": "stdout",
     "output_type": "stream",
     "text": [
      "\t\tMissing data per field\n",
      "Total records\t\t 548363\n",
      "Missing data\t\t% of total\tField name(23)\n",
      "517270\t\t\t94%\t\ttitle_or_profession\n",
      "503146\t\t\t92%\t\tavailable_to_move\n",
      "462981\t\t\t84%\t\tcivil_status\n",
      "462709\t\t\t84%\t\thas_video\n",
      "386665\t\t\t71%\t\tprofile_description\n",
      "190738\t\t\t35%\t\tsalary\n",
      "81329\t\t\t15%\t\tbirthdate\n",
      "75033\t\t\t14%\t\tgender\n",
      "51788\t\t\t9%\t\tidentification_type\n",
      "46607\t\t\t8%\t\tidentification_number\n",
      "26230\t\t\t5%\t\tcity\n",
      "21523\t\t\t4%\t\tcountry_birth\n",
      "16323\t\t\t3%\t\teducation_level\n",
      "8096\t\t\t1%\t\tphone\n",
      "31\t\t\t0%\t\tlast_name\n",
      "9\t\t\t0%\t\tfirst_name\n",
      "0\t\t\t0%\t\tpsy_tests\n",
      "0\t\t\t0%\t\texperiences\n",
      "0\t\t\t0%\t\tstudies\n",
      "0\t\t\t0%\t\twithout_studies\n",
      "0\t\t\t0%\t\twithout_experience\n",
      "0\t\t\t0%\t\temail\n"
     ]
    }
   ],
   "source": [
    "# Se cuenta cuantos NaN o Null hay por campo en el dataset\n",
    "hackaUtils.count_empty_records(dataset)"
   ]
  },
  {
   "cell_type": "code",
   "execution_count": null,
   "metadata": {},
   "outputs": [],
   "source": []
  }
 ],
 "metadata": {
  "kernelspec": {
   "display_name": "Python 3",
   "language": "python",
   "name": "python3"
  },
  "language_info": {
   "codemirror_mode": {
    "name": "ipython",
    "version": 3
   },
   "file_extension": ".py",
   "mimetype": "text/x-python",
   "name": "python",
   "nbconvert_exporter": "python",
   "pygments_lexer": "ipython3",
   "version": "3.6.4"
  }
 },
 "nbformat": 4,
 "nbformat_minor": 4
}
